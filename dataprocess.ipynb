{
 "cells": [
  {
   "cell_type": "markdown",
   "metadata": {},
   "source": [
    "# 竞争性关键词推荐"
   ]
  },
  {
   "cell_type": "markdown",
   "metadata": {},
   "source": [
    "## 数据预处理\n",
    "1. 从文档中读入搜索内容 --\n",
    "    从比赛数据的训练集中提取出搜索记录，并以utf-8格式保存，每条记录占一行"
   ]
  },
  {
   "cell_type": "code",
   "execution_count": 15,
   "metadata": {},
   "outputs": [],
   "source": [
    "#从源数据中提取出搜索词条，并保存（格式：每行一个搜索词条）\n",
    "data = open(\"./user_tag_query.10W.TRAIN\",'r',encoding='gb18030')\n",
    "output_file = open(\"./raw_words.train\",'w',encoding=\"utf-8\")\n",
    "for line in data:\n",
    "    line_list = line.split('\\t')\n",
    "    line_list = line_list[4:]\n",
    "    output_line = \"\\n\".join(line_list)\n",
    "    output_file.write(output_line + '\\n')\n",
    "data.close()\n",
    "output_file.close()"
   ]
  },
  {
   "cell_type": "markdown",
   "metadata": {},
   "source": [
    "ps：搜狗的数据集内容有点黄呀～～"
   ]
  },
  {
   "cell_type": "markdown",
   "metadata": {},
   "source": [
    "2. 分词\n",
    "    分词使用jieba分词工具"
   ]
  },
  {
   "cell_type": "code",
   "execution_count": 23,
   "metadata": {},
   "outputs": [],
   "source": [
    "import jieba\n",
    "#加载数据\n",
    "train_data = open(\"./raw_words.train\",\"r\")\n",
    "#保存结果文件\n",
    "result_file = open(\"./cutted_words.train\",'w')\n",
    "\n",
    "for sentence in train_data:\n",
    "    sentence = sentence[:-1]\n",
    "    cut_word = jieba.cut(sentence)\n",
    "    line_string = \"\\t\".join(cut_word) + '\\n'\n",
    "    result_file.write(line_string)\n",
    "train_data.close()\n",
    "result_file.close()"
   ]
  },
  {
   "cell_type": "markdown",
   "metadata": {},
   "source": [
    "3. 数据清洗（去除停用词）"
   ]
  },
  {
   "cell_type": "code",
   "execution_count": 2,
   "metadata": {},
   "outputs": [],
   "source": [
    "#加载数据\n",
    "train_data = open(\"./cutted_words.train\",\"r\")\n",
    "#保存结果文件\n",
    "result_file = open(\"./linkfree_words.train\",'w')\n",
    "\n",
    "#去除链接类词条\n",
    "for line in train_data:\n",
    "    word_list = line.split('\\t')\n",
    "    if word_list[0] in ['http','https','ftp','http:']:\n",
    "        continue\n",
    "    line_string = \"\\t\".join(word_list) + '\\n'\n",
    "    result_file.write(line_string)\n",
    "train_data.close()\n",
    "result_file.close()"
   ]
  },
  {
   "cell_type": "markdown",
   "metadata": {},
   "source": [
    "在去除停用词之前，首先获取词频分布特征"
   ]
  },
  {
   "cell_type": "code",
   "execution_count": 33,
   "metadata": {},
   "outputs": [],
   "source": [
    "#读入数据，以一维列表形式\n",
    "def read_word_list(filename):\n",
    "    wordlist = [];\n",
    "    data_file = open(filename,'r')\n",
    "    for line in data_file:\n",
    "        line = line[:-1]\n",
    "        words = line.split('\\t')\n",
    "        wordlist.extend(words)\n",
    "    data_file.close()\n",
    "    return wordlist"
   ]
  },
  {
   "cell_type": "code",
   "execution_count": 34,
   "metadata": {},
   "outputs": [
    {
     "name": "stdout",
     "output_type": "stream",
     "text": [
      "图片 291072\n",
      "手机 191472\n",
      "多少 191411\n",
      "意思 190856\n",
      "小说 159799\n",
      "视频 157487\n",
      "2016 144241\n",
      "下载 134929\n",
      "大全 131463\n",
      "吃 128020\n"
     ]
    }
   ],
   "source": [
    "#统计词频并展示(需要空闲5G左右内存)\n",
    "from collections import Counter\n",
    "word_list = read_word_list('./cleandata_v3.train')\n",
    "count_result = Counter(word_list)\n",
    "for key, val in count_result.most_common(10):\n",
    "    print(key, val)"
   ]
  },
  {
   "cell_type": "code",
   "execution_count": 35,
   "metadata": {},
   "outputs": [],
   "source": [
    "#持久化统计结果\n",
    "word_list = None\n",
    "result_file = open('./count_record_v3.txt','w')\n",
    "for key ,val in count_result.items():\n",
    "    result_file.write(key + \"\\t\" + str(val) + \"\\n\")\n",
    "result_file.close()\n",
    "    "
   ]
  },
  {
   "cell_type": "code",
   "execution_count": 10,
   "metadata": {},
   "outputs": [
    {
     "data": {
      "text/plain": [
       "[]"
      ]
     },
     "execution_count": 10,
     "metadata": {},
     "output_type": "execute_result"
    }
   ],
   "source": [
    "#停用词过滤器\n",
    "\n",
    "#\"的\", \"了\", \"在\", \"是\", \"我\", \"有\", \"和\", \"就\",\n",
    "#\"不\", \"人\", \"都\", \"一\", \"一个\", \"上\", \"也\", \"很\", \"到\", \"说\", \"要\", \"去\", \"你\",\n",
    "#\"会\", \"着\", \"没有\", \"看\", \"好\", \"自己\", \"这\"\n",
    "def stop_words_filter(word_list):\n",
    "    stop_word_list = set(['\\n','\\t','\\r',',','，','/','.',', ','之','多少','可以','的','与','了', \"在\",'是',\"我\",\"和\",\"就\",\"不\",\"都\",\"一\", \"一个\",\"上\", \"也\", \"很\", \"到\", \"说\",\"要\", \"去\", \"你\",\"会\", \"着\", \"没有\", \"看\", \"好\",\"自己\", \"这\",'呢','怎样','如何','什么','',' ','怎么','吗','有'])\n",
    "    word_cleaned = []\n",
    "    for word in word_list:\n",
    "        if word not in stop_word_list:\n",
    "            word_cleaned.append(word)\n",
    "    return word_cleaned\n",
    "stop_words_filter([])"
   ]
  },
  {
   "cell_type": "code",
   "execution_count": 32,
   "metadata": {},
   "outputs": [],
   "source": [
    "#加载数据\n",
    "train_data = open(\"./cutted_words.train\",\"r\")\n",
    "#保存结果文件\n",
    "result_file = open(\"./cleandata_v3.train\",'w')\n",
    "\n",
    "#过滤分词结果中的停用词\n",
    "for line in train_data:\n",
    "    line = line[:-1]\n",
    "    word_list = line.split('\\t')\n",
    "    word_list = stop_words_filter(word_list)\n",
    "    if len(word_list) == 0:\n",
    "        continue\n",
    "    line_string = \"\\t\".join(word_list) + '\\n'\n",
    "    result_file.write(line_string)\n",
    "train_data.close()\n",
    "result_file.close()\n"
   ]
  },
  {
   "cell_type": "code",
   "execution_count": 15,
   "metadata": {},
   "outputs": [
    {
     "name": "stdout",
     "output_type": "stream",
     "text": [
      "柔和\t双沟\t\n",
      "\n",
      "女生\t\n",
      "\n"
     ]
    }
   ],
   "source": [
    "result_file = open(\"./cleandata_v1.train\",'r')\n",
    "for i in range(10):\n",
    "    line = result_file.readline()\n",
    "    if (line == \"\\n\"):\n",
    "        continue\n",
    "    print(line)\n",
    "result_file.close()"
   ]
  },
  {
   "cell_type": "code",
   "execution_count": 23,
   "metadata": {},
   "outputs": [],
   "source": [
    "word_list = None"
   ]
  },
  {
   "cell_type": "code",
   "execution_count": 24,
   "metadata": {},
   "outputs": [],
   "source": [
    "count_result = None"
   ]
  },
  {
   "cell_type": "code",
   "execution_count": 7,
   "metadata": {},
   "outputs": [],
   "source": [
    "train_data = open(\"./raw_words.train\",\"r\")\n",
    "line = train_data.readline()\n",
    "train_data.close()"
   ]
  },
  {
   "cell_type": "code",
   "execution_count": 8,
   "metadata": {},
   "outputs": [
    {
     "name": "stdout",
     "output_type": "stream",
     "text": [
      "柔和双沟\n",
      "\n"
     ]
    }
   ],
   "source": [
    "print(line)"
   ]
  },
  {
   "cell_type": "code",
   "execution_count": 9,
   "metadata": {},
   "outputs": [
    {
     "name": "stdout",
     "output_type": "stream",
     "text": [
      "\n",
      "\n"
     ]
    }
   ],
   "source": [
    "print(line[-1])"
   ]
  },
  {
   "cell_type": "code",
   "execution_count": 20,
   "metadata": {},
   "outputs": [],
   "source": [
    "import jieba as jieba\n",
    "line = \"柔和双沟\\n\"\n",
    "# line = line[:-1]\n",
    "words = jieba.cut(line)"
   ]
  },
  {
   "cell_type": "code",
   "execution_count": 21,
   "metadata": {},
   "outputs": [
    {
     "data": {
      "text/plain": [
       "'柔和\\t双沟\\t\\n'"
      ]
     },
     "execution_count": 21,
     "metadata": {},
     "output_type": "execute_result"
    }
   ],
   "source": [
    "\"\\t\".join(words)"
   ]
  },
  {
   "cell_type": "code",
   "execution_count": 15,
   "metadata": {},
   "outputs": [
    {
     "name": "stdout",
     "output_type": "stream",
     "text": [
      "<generator object Tokenizer.cut at 0x7f813df26138>\n"
     ]
    }
   ],
   "source": [
    "print(words)"
   ]
  },
  {
   "cell_type": "code",
   "execution_count": 3,
   "metadata": {},
   "outputs": [
    {
     "name": "stdout",
     "output_type": "stream",
     "text": [
      "{'_id': ObjectId('5c98bc5e88e7313cd7d1d18f'), 'x': '这是一个测试'}\n"
     ]
    }
   ],
   "source": [
    "from pymongo import MongoClient\n",
    "conn = MongoClient('127.0.0.1',27017)\n",
    "testdb = conn.test\n",
    "words = testdb.words\n",
    "for word in words.find():\n",
    "    print(word)"
   ]
  },
  {
   "cell_type": "code",
   "execution_count": 4,
   "metadata": {},
   "outputs": [
    {
     "name": "stderr",
     "output_type": "stream",
     "text": [
      "/usr/lib/python3.7/site-packages/ipykernel_launcher.py:1: DeprecationWarning: remove is deprecated. Use delete_one or delete_many instead.\n",
      "  \"\"\"Entry point for launching an IPython kernel.\n"
     ]
    },
    {
     "data": {
      "text/plain": [
       "{'n': 1, 'ok': 1.0}"
      ]
     },
     "execution_count": 4,
     "metadata": {},
     "output_type": "execute_result"
    }
   ],
   "source": [
    "words.remove()"
   ]
  },
  {
   "cell_type": "code",
   "execution_count": 9,
   "metadata": {},
   "outputs": [],
   "source": [
    "for word in words.find():\n",
    "    print(word)"
   ]
  },
  {
   "cell_type": "code",
   "execution_count": 11,
   "metadata": {},
   "outputs": [
    {
     "name": "stderr",
     "output_type": "stream",
     "text": [
      "/usr/lib/python3.7/site-packages/ipykernel_launcher.py:12: DeprecationWarning: insert is deprecated. Use insert_one or insert_many instead.\n",
      "  if sys.path[0] == '':\n"
     ]
    }
   ],
   "source": [
    "#加载数据\n",
    "train_data = open(\"./cutted_words.train\",\"r\")\n",
    "#保存结果文件\n",
    "\n",
    "#过滤分词结果中的停用词\n",
    "for line in train_data:\n",
    "    line = line[:-1]\n",
    "    word_list = line.split('\\t')\n",
    "    word_list = stop_words_filter(word_list)\n",
    "    if len(word_list) == 0:\n",
    "        continue\n",
    "    words.insert({\"item\":word_list})\n",
    "train_data.close()\n"
   ]
  },
  {
   "cell_type": "markdown",
   "metadata": {},
   "source": [
    "至此，数据分词入库完成，接下来先实现通用数据访问接口"
   ]
  },
  {
   "cell_type": "markdown",
   "metadata": {},
   "source": [
    "## 数据访问接口的实现"
   ]
  },
  {
   "cell_type": "code",
   "execution_count": 4,
   "metadata": {},
   "outputs": [],
   "source": [
    "from pymongo import MongoClient\n",
    "from bson import Code\n",
    "#创建连接\n",
    "_conn = MongoClient('127.0.0.1',27017)\n",
    "#连接到test数据库\n",
    "_testdb = _conn.test\n",
    "#获取words文档句柄\n",
    "_words = _testdb.words\n",
    "#获取词频统计文档句柄\n",
    "_wordCount = _testdb.wordcount\n",
    "_countGraph = _testdb.countgraph\n",
    "\n",
    "##词频统计mapreduce版\n",
    "def countWords(data,out = {\"inline\":1}):\n",
    "    mapper = Code(\"\"\"\n",
    "        function() {\n",
    "            this.item.forEach(function(v) {\n",
    "                emit(v,1)\n",
    "            })\n",
    "        }\n",
    "    \"\"\")\n",
    "    reducer = Code(\"\"\"\n",
    "        function(key,values) {\n",
    "            var total = 0\n",
    "            for (var i = 0; i < values.length; i++){\n",
    "                total += values[i];\n",
    "            }\n",
    "            return total\n",
    "        }\n",
    "    \"\"\")\n",
    "    return data.map_reduce(mapper,reducer,out)\n",
    "\n",
    "##词频统计aggragate版\n",
    "def countAllWords():\n",
    "    countPipeline = [\n",
    "        {\n",
    "            \"$unwind\":\"$item\"\n",
    "        },\n",
    "        {\n",
    "            \"$group\":{\"_id\":\"$item\",\"count\":{\"$sum\":1}}\n",
    "        },\n",
    "        {\n",
    "            \"$sort\":{\"count\":-1}\n",
    "        },\n",
    "        {\n",
    "            \"$out\":\"wordcount\"\n",
    "        }\n",
    "    ]\n",
    "    _words.aggregate(countPipeline,allowDiskUse=true)\n",
    "    return\n",
    "\n",
    "##得到全局词频统计结果\n",
    "def getWordCount(word):\n",
    "    result = _wordCount.find_one({\"_id\":word})\n",
    "    return result[\"count\"]\n",
    "##获取词频分布结果\n",
    "def wordCountGraph():\n",
    "    pipeline = [\n",
    "        {\n",
    "            \"$group\":{\"_id\":\"$count\",\"sum\":{\"$sum\":1}}\n",
    "        },\n",
    "        {\n",
    "            \"$sort\":{\"_id\":1}\n",
    "        },\n",
    "        {\n",
    "            \"$out\":\"countgraph\"\n",
    "        }\n",
    "    ]\n",
    "    _wordCount.aggregate(pipeline,allowDiskUse=True)\n",
    "    return\n",
    "\n",
    "\n",
    "def getCountGraphData():\n",
    "    return list(_countGraph.find({}))\n",
    "\n",
    "##关联关键词统计aggragate版\n",
    "def getIK(words,minvolume):\n",
    "    IKPipeline = [\n",
    "        {\"$match\":{\"item\":{\"$all\":words}}},\n",
    "        {\"$unwind\":\"$item\"},\n",
    "        {\"$group\":{\"_id\":\"$item\",\"count\":{\"$sum\":1}}},\n",
    "        {\"$match\":{\"count\":{\"$gt\":minvolume}}},\n",
    "        {\"$sort\":{\"count\":-1}}\n",
    "    ]\n",
    "    result = {record[\"_id\"]:record[\"count\"] for record in _words.aggregate(IKPipeline)}\n",
    "    result.pop(words[0])\n",
    "    return result\n",
    "##获取两个关键词同时出现的搜索量\n",
    "def getVolume(seed,keyword):\n",
    "    countPipeline = [\n",
    "        {\"$match\":{\"item\":{\"$all\":[seed,keyword]}}},\n",
    "        {\"$group\":{\"_id\":\"null\",\"count\":{\"$sum\":1}}}\n",
    "    ]\n",
    "    result = list(_words.aggregate(countPipeline))\n",
    "    return result[0][\"count\"]\n",
    "\n",
    "def getVolume(seed,keyword):\n",
    "    return _words.count_documents({\"item\":{\"$all\":[seed,keyword]}})\n",
    "## 获取指定offset和limit的文档集合\n",
    "def getWordsBySize(offset_num,limit_num):\n",
    "    return _words.find().limit(limit_num).skip(offset_num)\n"
   ]
  },
  {
   "cell_type": "code",
   "execution_count": 48,
   "metadata": {},
   "outputs": [],
   "source": [
    "wordCountGraph()"
   ]
  },
  {
   "cell_type": "code",
   "execution_count": 49,
   "metadata": {},
   "outputs": [],
   "source": [
    "l =getCountGraphData()"
   ]
  },
  {
   "cell_type": "code",
   "execution_count": 50,
   "metadata": {},
   "outputs": [
    {
     "name": "stdout",
     "output_type": "stream",
     "text": [
      "[{'_id': 1.0, 'sum': 481409}]\n"
     ]
    }
   ],
   "source": [
    "print(l[:1])"
   ]
  },
  {
   "cell_type": "code",
   "execution_count": 51,
   "metadata": {},
   "outputs": [
    {
     "data": {
      "text/plain": [
       "[<matplotlib.lines.Line2D at 0x7f5b69e70198>]"
      ]
     },
     "execution_count": 51,
     "metadata": {},
     "output_type": "execute_result"
    },
    {
     "data": {
      "image/png": "[encoded data removed]",
      "text/plain": [
       "<Figure size 432x288 with 1 Axes>"
      ]
     },
     "metadata": {
      "needs_background": "light"
     },
     "output_type": "display_data"
    }
   ],
   "source": [
    "##\n",
    "from matplotlib import pyplot\n",
    "x = [a[\"_id\"] for a in l]\n",
    "y = [a[\"sum\"] for a in l]\n",
    "pyplot.plot(x[:50],y[:50])\n",
    "# print(x[1],y[1])"
   ]
  },
  {
   "cell_type": "code",
   "execution_count": 43,
   "metadata": {},
   "outputs": [
    {
     "name": "stdout",
     "output_type": "stream",
     "text": [
      "52.0 750\n"
     ]
    }
   ],
   "source": [
    "print(x[50],y[50])"
   ]
  },
  {
   "cell_type": "code",
   "execution_count": 52,
   "metadata": {},
   "outputs": [
    {
     "data": {
      "text/plain": [
       "[<matplotlib.lines.Line2D at 0x7f5b69e49470>]"
      ]
     },
     "execution_count": 52,
     "metadata": {},
     "output_type": "execute_result"
    },
    {
     "data": {
      "image/png": "[encoded data removed]",
      "text/plain": [
       "<Figure size 432x288 with 1 Axes>"
      ]
     },
     "metadata": {
      "needs_background": "light"
     },
     "output_type": "display_data"
    }
   ],
   "source": [
    "pyplot.plot(x[50:100],y[50:100])"
   ]
  },
  {
   "cell_type": "code",
   "execution_count": 45,
   "metadata": {},
   "outputs": [
    {
     "name": "stdout",
     "output_type": "stream",
     "text": [
      "97.0 253\n"
     ]
    }
   ],
   "source": [
    "print(x[100],y[100])"
   ]
  },
  {
   "cell_type": "code",
   "execution_count": 60,
   "metadata": {},
   "outputs": [
    {
     "name": "stdout",
     "output_type": "stream",
     "text": [
      "100.0 245\n",
      "4719\n"
     ]
    }
   ],
   "source": [
    "print(x[99],y[99])\n",
    "print(len(x))"
   ]
  },
  {
   "cell_type": "code",
   "execution_count": 61,
   "metadata": {},
   "outputs": [
    {
     "data": {
      "text/plain": [
       "[<matplotlib.lines.Line2D at 0x7f5b69b5aa20>]"
      ]
     },
     "execution_count": 61,
     "metadata": {},
     "output_type": "execute_result"
    },
    {
     "data": {
      "image/png": "[encoded data removed]",
      "text/plain": [
       "<Figure size 432x288 with 1 Axes>"
      ]
     },
     "metadata": {
      "needs_background": "light"
     },
     "output_type": "display_data"
    }
   ],
   "source": [
    "pyplot.plot(x[100:4000],y[100:4000])"
   ]
  },
  {
   "cell_type": "markdown",
   "metadata": {},
   "source": [
    "``` javascript\n",
    "    function(){\n",
    "        var test = 0\n",
    "        return 0\n",
    "    }\n",
    "```"
   ]
  },
  {
   "cell_type": "code",
   "execution_count": 11,
   "metadata": {},
   "outputs": [
    {
     "name": "stdout",
     "output_type": "stream",
     "text": [
      "{':': 2495, 'baidu': 2355, 'com': 2224, 's': 2092, 'http': 1631, 'https': 139, '链接': 71, '百度': 49, 'share': 48, '(': 45, '1gd1dozp': 44, '密码': 42, '?': 37, 'link': 35, '\"': 35, 'co': 28, '=': 27, 'panhttp': 22, 'ht': 21, 'mbox': 20, '[': 20, 'tp': 20, 'ttp': 20, '密': 19, 'bai': 18, 'p': 18, ')': 17, 'htt': 17, ']': 16, '1o8ky59c': 15, '_': 14, '：': 14, 'baid': 14, 'wap': 14, '1bpjxdgb': 14, '#': 14, '云': 12, 'href': 11, '1i5ctmyt': 11, 'b': 11, 'baiduhttp': 11, 'c': 11, 'target': 11}\n"
     ]
    }
   ],
   "source": [
    "resu = getIK([\"pan\"],10)\n",
    "print(resu)"
   ]
  },
  {
   "cell_type": "code",
   "execution_count": 37,
   "metadata": {},
   "outputs": [],
   "source": [
    "c = getVolume(\"云\",\"pan\")"
   ]
  },
  {
   "cell_type": "code",
   "execution_count": 38,
   "metadata": {
    "scrolled": true
   },
   "outputs": [
    {
     "name": "stdout",
     "output_type": "stream",
     "text": [
      "12\n"
     ]
    }
   ],
   "source": [
    "print(resu)"
   ]
  },
  {
   "cell_type": "code",
   "execution_count": 34,
   "metadata": {},
   "outputs": [
    {
     "name": "stdout",
     "output_type": "stream",
     "text": [
      "[':', 'baidu', 'com', 's', 'http', 'https', '链接', '百度', 'share', '(', '1gd1dozp', '密码', '?', 'link', '\"', 'co', '=', 'panhttp', 'ht', 'mbox', '[', 'tp', 'ttp', '密', 'bai', 'p', ')', 'htt', ']', '1o8ky59c', '_', '：', 'baid', 'wap', '1bpjxdgb', '#', '云', 'href', '1i5ctmyt', 'b', 'baiduhttp', 'c', 'target']\n"
     ]
    }
   ],
   "source": [
    "print(resu)"
   ]
  },
  {
   "cell_type": "code",
   "execution_count": 29,
   "metadata": {},
   "outputs": [
    {
     "data": {
      "text/plain": [
       "28218"
      ]
     },
     "execution_count": 29,
     "metadata": {},
     "output_type": "execute_result"
    }
   ],
   "source": [
    "getWordCount(\"华为\")"
   ]
  },
  {
   "cell_type": "markdown",
   "metadata": {},
   "source": [
    "## 计算comp"
   ]
  },
  {
   "cell_type": "code",
   "execution_count": 22,
   "metadata": {},
   "outputs": [],
   "source": [
    "def comp(keyword,seed):\n",
    "    ik_set = getIK([seed],10)\n",
    "    ik_set.pop(keyword,0)\n",
    "    s = getWordCount(seed)\n",
    "    comp_sum = 0\n",
    "    for ik in ik_set:\n",
    "        a = getWordCount(ik)\n",
    "        ka = getVolume(keyword,ik)\n",
    "        if a - ik_set[ik]:\n",
    "            comp_sum += (ik_set[ik] *ka) / (s * (a - ik_set[ik]))\n",
    "    return comp_sum"
   ]
  },
  {
   "cell_type": "code",
   "execution_count": 24,
   "metadata": {},
   "outputs": [],
   "source": [
    "##使用聚合优化\n",
    "def comp(keyword,seed):\n",
    "    ik_set = getIK([seed],10)\n",
    "    ik_set.pop(keyword,0)\n",
    "    ka_set = getIK([keyword],10)\n",
    "    ka_set.pop(seed,0)\n",
    "    target_set = set(ik_set.keys()) & set(ka_set.keys())\n",
    "    s = getWordCount(seed)\n",
    "    comp_sum = 0\n",
    "    for it in target_set:\n",
    "        a = getWordCount(it)\n",
    "        if a - ik_set[it]:\n",
    "            comp_sum += (ik_set[it] *ka_set[it]) / (s * (a - ik_set[it]))\n",
    "    return comp_sum\n",
    "## 使用mapreduce优化comp\n",
    "# def comp(keyword,seed):\n",
    "    "
   ]
  },
  {
   "cell_type": "code",
   "execution_count": 23,
   "metadata": {},
   "outputs": [
    {
     "name": "stdout",
     "output_type": "stream",
     "text": [
      "0.05554324612465046\n"
     ]
    }
   ],
   "source": [
    "print(comp(\"小米\",\"华为\"))"
   ]
  },
  {
   "cell_type": "code",
   "execution_count": 25,
   "metadata": {},
   "outputs": [
    {
     "name": "stdout",
     "output_type": "stream",
     "text": [
      "0.04562167104070955\n"
     ]
    }
   ],
   "source": [
    "print(comp(\"小米\",\"华为\"))"
   ]
  },
  {
   "cell_type": "code",
   "execution_count": 6,
   "metadata": {},
   "outputs": [
    {
     "name": "stdout",
     "output_type": "stream",
     "text": [
      "0.052351332432852074\n"
     ]
    }
   ],
   "source": [
    "##参数为10\n",
    "print(comp(\"小米\",\"华为\"))"
   ]
  },
  {
   "cell_type": "code",
   "execution_count": 5,
   "metadata": {},
   "outputs": [
    {
     "name": "stdout",
     "output_type": "stream",
     "text": [
      "0.04417662072028834\n"
     ]
    }
   ],
   "source": [
    "##参数为100\n",
    "print(comp(\"小米\",\"华为\"))"
   ]
  },
  {
   "cell_type": "code",
   "execution_count": 52,
   "metadata": {},
   "outputs": [
    {
     "name": "stdout",
     "output_type": "stream",
     "text": [
      "0.3693448603418049\n"
     ]
    }
   ],
   "source": [
    "print(comp(\"手机\",\"华为\"))"
   ]
  },
  {
   "cell_type": "code",
   "execution_count": 6,
   "metadata": {},
   "outputs": [
    {
     "name": "stdout",
     "output_type": "stream",
     "text": [
      "0.12979413500866427\n"
     ]
    }
   ],
   "source": [
    "print(comp(\"手机\",\"华为\"))"
   ]
  },
  {
   "cell_type": "code",
   "execution_count": 53,
   "metadata": {},
   "outputs": [
    {
     "name": "stdout",
     "output_type": "stream",
     "text": [
      "0.004462815798760154\n"
     ]
    }
   ],
   "source": [
    "print(comp(\"宝马\",\"华为\"))"
   ]
  },
  {
   "cell_type": "code",
   "execution_count": 11,
   "metadata": {},
   "outputs": [
    {
     "name": "stdout",
     "output_type": "stream",
     "text": [
      "0.0017340876618892008\n"
     ]
    }
   ],
   "source": [
    "print(comp(\"宝马\",\"华为\"))"
   ]
  },
  {
   "cell_type": "code",
   "execution_count": 21,
   "metadata": {},
   "outputs": [
    {
     "name": "stdout",
     "output_type": "stream",
     "text": [
      "0.010338857542821453\n"
     ]
    }
   ],
   "source": [
    "print(comp(\"宝马\",\"奔驰\"))"
   ]
  },
  {
   "cell_type": "code",
   "execution_count": 60,
   "metadata": {},
   "outputs": [
    {
     "name": "stdout",
     "output_type": "stream",
     "text": [
      "0.03138489466080754\n"
     ]
    }
   ],
   "source": [
    "print(comp(\"宝马\",\"奔驰\"))"
   ]
  },
  {
   "cell_type": "code",
   "execution_count": 12,
   "metadata": {},
   "outputs": [
    {
     "name": "stdout",
     "output_type": "stream",
     "text": [
      "0.010707457543488764\n"
     ]
    }
   ],
   "source": [
    "print(comp(\"宝马\",\"奔驰\"))"
   ]
  },
  {
   "cell_type": "code",
   "execution_count": 55,
   "metadata": {},
   "outputs": [
    {
     "name": "stdout",
     "output_type": "stream",
     "text": [
      "0.018778501754501405\n"
     ]
    }
   ],
   "source": [
    "print(comp(\"汽车\",\"宝马\"))"
   ]
  },
  {
   "cell_type": "code",
   "execution_count": 61,
   "metadata": {},
   "outputs": [
    {
     "name": "stdout",
     "output_type": "stream",
     "text": [
      "0.006180424867552112\n"
     ]
    }
   ],
   "source": [
    "print(comp(\"汽车\",\"宝马\"))"
   ]
  },
  {
   "cell_type": "code",
   "execution_count": 13,
   "metadata": {},
   "outputs": [
    {
     "name": "stdout",
     "output_type": "stream",
     "text": [
      "0.006180424867552112\n"
     ]
    }
   ],
   "source": [
    "print(comp(\"汽车\",\"宝马\"))"
   ]
  },
  {
   "cell_type": "code",
   "execution_count": 56,
   "metadata": {},
   "outputs": [
    {
     "name": "stdout",
     "output_type": "stream",
     "text": [
      "0.035912351551810995\n"
     ]
    }
   ],
   "source": [
    "print(comp(\"奔驰\",\"宝马\"))"
   ]
  },
  {
   "cell_type": "code",
   "execution_count": 62,
   "metadata": {},
   "outputs": [
    {
     "name": "stdout",
     "output_type": "stream",
     "text": [
      "遍历一遍计算竞争性需要 2756.2305555555554 小时\n"
     ]
    }
   ],
   "source": [
    "print(\"遍历一遍计算竞争性需要\",992243 * 10 /3600.0,\"小时\")"
   ]
  },
  {
   "cell_type": "markdown",
   "metadata": {},
   "source": [
    "#### 可以看出，这是一个不可能完成的任务。为了找到竞争性关键词，必须要做优化。"
   ]
  },
  {
   "cell_type": "markdown",
   "metadata": {},
   "source": [
    "    主要思路从一下几个方面入手\n",
    "1. 查询缓存\n",
    "2. 启发式搜索"
   ]
  },
  {
   "cell_type": "code",
   "execution_count": 31,
   "metadata": {},
   "outputs": [
    {
     "name": "stdout",
     "output_type": "stream",
     "text": [
      "the target_set  4382\n",
      "[('手机', 0.15250700875994308), ('版', 0.08020815375056747), ('红米', 0.06154764457626095), ('苹果', 0.06097146704331277), ('华为', 0.05034784904770129), ('用', 0.04543681493698565), ('电脑', 0.04343012528258425), ('qq', 0.03890502142678252), ('下载', 0.03852220640342159), ('荣耀', 0.03674779742225898), ('平板', 0.03529869088685101), ('为什么', 0.03384084106062777), ('5', 0.03205344346543691), ('2', 0.031920181169499705), ('设置', 0.031080523255230967), ('能', 0.030651947554283146), ('怎么办', 0.029133155549278922), ('魅蓝', 0.02841067075878982), ('钱', 0.027154292205389657), ('充电', 0.025991855966879807), ('哪个', 0.024127644483015943), ('软件', 0.023738795013055883), ('视频', 0.023446953060851605), ('三星', 0.023113391661230363), ('?', 0.021477910404636806), ('月', 0.021243895384065924), ('魅族', 0.020728342347066688), ('图片', 0.02046508575233709), ('密码', 0.019967449830500503), ('百度', 0.01965157721970151)]\n"
     ]
    }
   ],
   "source": [
    "##启发式搜索推荐关键词\n",
    "def getCommendWord(seed):\n",
    "    ik_set = getIK([seed],100)\n",
    "    target_set = set()\n",
    "    result = {}\n",
    "    for ik in ik_set:\n",
    "        target = getIK([ik],100)\n",
    "        target_set = target_set.union(target.keys())\n",
    "    print(\"the target_set \",len(target_set))\n",
    "    target_set.discard(seed)\n",
    "    for target in target_set:\n",
    "        result[target] = comp(target,seed)\n",
    "    r = sorted(result.items(),key=lambda x:x[1],reverse=True)\n",
    "    return r\n",
    "rtest = getCommendWord(\"小米\")\n",
    "print(rtest[:30])"
   ]
  },
  {
   "cell_type": "code",
   "execution_count": 28,
   "metadata": {},
   "outputs": [
    {
     "data": {
      "text/plain": [
       "[<matplotlib.lines.Line2D at 0x7fb26b4876d8>]"
      ]
     },
     "execution_count": 28,
     "metadata": {},
     "output_type": "execute_result"
    },
    {
     "data": {
      "image/png": "[encoded data removed]",
      "text/plain": [
       "<Figure size 432x288 with 1 Axes>"
      ]
     },
     "metadata": {
      "needs_background": "light"
     },
     "output_type": "display_data"
    }
   ],
   "source": [
    "from matplotlib import pyplot\n",
    "\n",
    "x = range(len(rtest))\n",
    "y = [r[1] for r in rtest]\n",
    "pyplot.plot(x,y)"
   ]
  },
  {
   "cell_type": "code",
   "execution_count": 30,
   "metadata": {},
   "outputs": [
    {
     "data": {
      "text/plain": [
       "[<matplotlib.lines.Line2D at 0x7fb26b4468d0>]"
      ]
     },
     "execution_count": 30,
     "metadata": {},
     "output_type": "execute_result"
    },
    {
     "data": {
      "image/png": "[encoded data removed]",
      "text/plain": [
       "<Figure size 432x288 with 1 Axes>"
      ]
     },
     "metadata": {
      "needs_background": "light"
     },
     "output_type": "display_data"
    }
   ],
   "source": [
    "pyplot.plot(x[:50],y[:50])"
   ]
  },
  {
   "cell_type": "code",
   "execution_count": 34,
   "metadata": {},
   "outputs": [
    {
     "data": {
      "text/plain": [
       "[<matplotlib.lines.Line2D at 0x7fb26b4768d0>]"
      ]
     },
     "execution_count": 34,
     "metadata": {},
     "output_type": "execute_result"
    },
    {
     "data": {
      "image/png": "[encoded data removed]",
      "text/plain": [
       "<Figure size 432x288 with 1 Axes>"
      ]
     },
     "metadata": {
      "needs_background": "light"
     },
     "output_type": "display_data"
    }
   ],
   "source": [
    "xx = range(len(rtest))\n",
    "yy = [r[1] for r in rtest]\n",
    "pyplot.plot(xx,yy)"
   ]
  },
  {
   "cell_type": "code",
   "execution_count": 35,
   "metadata": {},
   "outputs": [
    {
     "data": {
      "text/plain": [
       "[<matplotlib.lines.Line2D at 0x7fb26b3b7eb8>]"
      ]
     },
     "execution_count": 35,
     "metadata": {},
     "output_type": "execute_result"
    },
    {
     "data": {
      "image/png": "[encoded data removed]",
      "text/plain": [
       "<Figure size 432x288 with 1 Axes>"
      ]
     },
     "metadata": {
      "needs_background": "light"
     },
     "output_type": "display_data"
    }
   ],
   "source": [
    "pyplot.plot(xx[:50],yy[:50])"
   ]
  },
  {
   "cell_type": "code",
   "execution_count": 16,
   "metadata": {},
   "outputs": [
    {
     "name": "stdout",
     "output_type": "stream",
     "text": [
      "4626\n"
     ]
    }
   ],
   "source": [
    "print(len(rtest))"
   ]
  },
  {
   "cell_type": "code",
   "execution_count": 18,
   "metadata": {},
   "outputs": [
    {
     "name": "stdout",
     "output_type": "stream",
     "text": [
      "[('王者', 0.17996450866253363), ('月', 0.024001183722026087), ('qq', 0.023928228277762798), ('2', 0.019584976793983442), ('vivo', 0.018799352478780396), ('评测', 0.016972624631200254), ('3', 0.016489189209720295), ('英雄', 0.015847226473396408), ('游戏', 0.014764362038829425), ('买', 0.01439840222083899), ('年', 0.014129533207268603), ('x7', 0.013157578220786828), ('分', 0.013046007263062806), ('指纹', 0.01303217672771124), ('意思', 0.012843018047336069), ('电池', 0.012821825113046385), ('跑', 0.012706202865521305), ('双卡', 0.012590178881455322), ('那个', 0.012237260419887333), ('后', 0.01208809017164699), ('nfc', 0.011817286528951507), ('配置', 0.011572707492844735), ('1', 0.011512210144499472), ('微信', 0.01143285854063806), ('把', 0.01135746106110409), ('流量', 0.01122717831464687), ('红米', 0.011199528092428666), ('壁纸', 0.011187402813466583), ('开', 0.011101674893205895), ('换', 0.010520781723554468)]\n"
     ]
    }
   ],
   "source": [
    "ik_set = getIK([\"华为\"],100)\n",
    "rclear = []\n",
    "for r in rtest:\n",
    "    if r[0] in ik_set:\n",
    "        continue\n",
    "    rclear.append(r)\n",
    "rclear_sort = sorted(rclear,key=lambda x:x[1],reverse=True)\n",
    "print(rclear_sort[:30])"
   ]
  },
  {
   "cell_type": "code",
   "execution_count": 21,
   "metadata": {},
   "outputs": [],
   "source": [
    "output_file = open(\"compkey_huawei.txt\",'w')\n",
    "for item in rtest:\n",
    "    output_file.write(item[0] + \"\\t\" + str(item[1]) + \"\\n\")\n",
    "output_file.close()"
   ]
  },
  {
   "cell_type": "code",
   "execution_count": null,
   "metadata": {},
   "outputs": [],
   "source": []
  },
  {
   "cell_type": "code",
   "execution_count": null,
   "metadata": {},
   "outputs": [],
   "source": []
  },
  {
   "cell_type": "code",
   "execution_count": null,
   "metadata": {},
   "outputs": [],
   "source": []
  }
 ],
 "metadata": {
  "kernelspec": {
   "display_name": "Python 3",
   "language": "python",
   "name": "python3"
  },
  "language_info": {
   "codemirror_mode": {
    "name": "ipython",
    "version": 3
   },
   "file_extension": ".py",
   "mimetype": "text/x-python",
   "name": "python",
   "nbconvert_exporter": "python",
   "pygments_lexer": "ipython3",
   "version": "3.7.2"
  }
 },
 "nbformat": 4,
 "nbformat_minor": 2
}
